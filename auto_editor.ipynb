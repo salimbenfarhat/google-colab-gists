{
 "cells": [
  {
   "cell_type": "code",
   "execution_count": null,
   "metadata": {
    "colab": {
     "base_uri": "https://localhost:8080/",
     "height": 121
    },
    "id": "uHZHbzjPxDVP",
    "outputId": "9081e411-169d-454f-e1be-6835dcd229ad"
   },
   "outputs": [],
   "source": [
    "# Auto-Éditeur pour la Coupe de Vidéos (sur Google Colab)\n",
    "\n",
    "# Ce guide montre comment utiliser `auto-editor` pour traiter des vidéos directement dans Google Colab afin de les couper automatiquement.\n",
    "\n",
    "## Étape 0 : Se rendre sur Google Colab\n",
    "\n",
    "## Étape 1 : Installation\n",
    "\n",
    "# Tout d'abord, installez `auto-editor` en utilisant pip:\n",
    "\n",
    "!pip install auto-editor\n",
    "\n",
    "## Étape 2 : Monter Google Drive\n",
    "\n",
    "# Montez votre Google Drive pour accéder à vos fichiers vidéo :\n",
    "\n",
    "from google.colab import drive\n",
    "drive.mount('/content/drive')\n",
    "\n",
    "## Étape 3 : Lancer Auto-Editor\n",
    "\n",
    "# Maintenant, lancez auto-editor sur votre fichier vidéo :\n",
    "\n",
    "!auto-editor \"/content/drive/MyDrive/Colab Notebooks/sample.mp4\" --margin 0.2s --no-open\n",
    "\n",
    "# Remplacez \"sample.mp4\" par le chemin de votre fichier vidéo.\n",
    "\n",
    "# Étape 4 : Télécharger la vidéo éditée\n",
    "from google.colab import files\n",
    "files.download('/content/drive/MyDrive/Colab Notebooks/sample_ALTERED.mp4')\n"
   ]
  }
 ],
 "metadata": {
  "colab": {
   "provenance": []
  },
  "kernelspec": {
   "display_name": "Python 3",
   "name": "python3"
  },
  "language_info": {
   "name": "python"
  }
 },
 "nbformat": 4,
 "nbformat_minor": 0
}
